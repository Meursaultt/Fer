{
 "cells": [
  {
   "cell_type": "code",
   "execution_count": 14,
   "id": "ce7b6b14-d8c2-4a42-ad3c-981783ac38df",
   "metadata": {},
   "outputs": [],
   "source": [
    "import torch \n",
    "import torchvision\n",
    "from torchvision import transforms\n",
    "import torch.nn as nn\n",
    "import torch.nn.functional as F"
   ]
  },
  {
   "cell_type": "code",
   "execution_count": 15,
   "id": "b0d0a121-32bd-4797-810b-3b07bda16c5e",
   "metadata": {},
   "outputs": [],
   "source": [
    "import torchvision.transforms as transforms\n",
    "\n",
    "transform = transforms.Compose([\n",
    "    transforms.Grayscale(),\n",
    "    transforms.Resize((48, 48)), \n",
    "    transforms.ToTensor(),\n",
    "    transforms.Normalize(mean=[0.5], std=[0.2])\n",
    "])\n"
   ]
  },
  {
   "cell_type": "code",
   "execution_count": 16,
   "id": "cfc349de-d80a-4606-b53a-3cc9b8e5cef7",
   "metadata": {},
   "outputs": [],
   "source": [
    "train_path =\"FerData/train\"\n",
    "test_path =\"FerData/test\"\n",
    "train_dataset=torchvision.datasets.ImageFolder(root=train_path,transform=transform)\n",
    "test_dataset=torchvision.datasets.ImageFolder(root=test_path,transform=transform)"
   ]
  },
  {
   "cell_type": "code",
   "execution_count": 17,
   "id": "43fcc916-e48e-403d-98bd-604a776f228e",
   "metadata": {},
   "outputs": [
    {
     "data": {
      "text/plain": [
       "tensor([[[-0.0294,  1.0098,  0.8333,  ...,  0.4020,  0.5784,  0.7745],\n",
       "         [-0.6765,  0.6961,  0.4216,  ...,  0.6569,  0.8333,  1.0882],\n",
       "         [ 0.5784,  0.7941,  0.3039,  ...,  0.4020,  0.8137,  1.1078],\n",
       "         ...,\n",
       "         [-1.6373, -1.6373, -1.5784,  ..., -1.7353, -1.5980, -1.5196],\n",
       "         [-1.5196, -1.5196, -1.6176,  ..., -1.6569, -1.5980, -1.6765],\n",
       "         [-1.5588, -1.5784, -1.5588,  ..., -1.6961, -1.6569, -1.6373]]])"
      ]
     },
     "execution_count": 17,
     "metadata": {},
     "output_type": "execute_result"
    }
   ],
   "source": [
    "image , label = train_dataset[30]\n",
    "image "
   ]
  },
  {
   "cell_type": "code",
   "execution_count": 18,
   "id": "ade0541e-1cba-4741-ad0f-ab31157c4e81",
   "metadata": {},
   "outputs": [
    {
     "data": {
      "image/png": "[encoded data removed]",
      "text/plain": [
       "<Figure size 640x480 with 2 Axes>"
      ]
     },
     "metadata": {},
     "output_type": "display_data"
    }
   ],
   "source": [
    "import matplotlib.pyplot as plt \n",
    "plt.imshow(image.squeeze(), cmap='gray', vmin=-1, vmax=1)  # Explicitly set scale\n",
    "plt.title(f\"Label: {label}\")\n",
    "plt.colorbar()\n",
    "plt.show()"
   ]
  },
  {
   "cell_type": "code",
   "execution_count": 19,
   "id": "5d50ecd9-8eec-493e-9226-2269f098ff34",
   "metadata": {},
   "outputs": [],
   "source": [
    "batch_size=32\n",
    "device = torch.device(\"cuda:0\" if torch.cuda.is_available() else \"cpu\")\n",
    "train_loader = torch.utils.data.DataLoader(train_dataset, batch_size=batch_size, pin_memory=True, shuffle=True)\n",
    "test_loader = torch.utils.data.DataLoader(test_dataset, batch_size=batch_size, shuffle=False)"
   ]
  },
  {
   "cell_type": "code",
   "execution_count": 20,
   "id": "f45b11a1-1cea-4be7-85bf-5e9af6536349",
   "metadata": {},
   "outputs": [],
   "source": [
    "class FerModel(nn.Module):\n",
    "    def __init__(self, num_classes=7, dropout=False):\n",
    "        super(FerModel, self).__init__()\n",
    "        self.conv1 = nn.Conv2d(1, 32, kernel_size=5, padding=2)\n",
    "        self.conv2 = nn.Conv2d(32, 64, kernel_size=5, padding=2)\n",
    "        self.conv3 = nn.Conv2d(64, 128, kernel_size=5, padding=2)\n",
    "        self.conv4 = nn.Conv2d(128, 256, kernel_size=5, padding=2)\n",
    "        self.pool = nn.MaxPool2d(2, 2)\n",
    "        self.fc1 = nn.Linear(256 * 3 * 3, 1024)\n",
    "        self.fc2 = nn.Linear(1024, 512)\n",
    "        self.fc3 = nn.Linear(512, num_classes)\n",
    "        \n",
    "        self.dropout = nn.Dropout(0.5) if dropout else None\n",
    "        self.bn1 = nn.BatchNorm2d(32)\n",
    "        self.bn2 = nn.BatchNorm2d(64)\n",
    "        self.bn3 = nn.BatchNorm2d(128)\n",
    "        self.bn4 = nn.BatchNorm2d(256)\n",
    "\n",
    "    def forward(self, x):\n",
    "        x = self.pool(F.relu(self.bn1(self.conv1(x))))\n",
    "        x = self.pool(F.relu(self.bn2(self.conv2(x))))\n",
    "        x = self.pool(F.relu(self.bn3(self.conv3(x))))\n",
    "        x = self.pool(F.relu(self.bn4(self.conv4(x))))\n",
    "        x = torch.flatten(x, 1)\n",
    "        x = F.relu(self.fc1(x))\n",
    "        if self.dropout:\n",
    "            x = self.dropout(x)\n",
    "        x = F.relu(self.fc2(x))\n",
    "        x = self.fc3(x)\n",
    "        return x"
   ]
  },
  {
   "cell_type": "code",
   "execution_count": 21,
   "id": "b6e9ad24-4ffa-4fd2-b0fc-4c74fe2ddaf1",
   "metadata": {},
   "outputs": [
    {
     "name": "stdout",
     "output_type": "stream",
     "text": [
      "FerModel(\n",
      "  (conv1): Conv2d(1, 32, kernel_size=(5, 5), stride=(1, 1), padding=(2, 2))\n",
      "  (conv2): Conv2d(32, 64, kernel_size=(5, 5), stride=(1, 1), padding=(2, 2))\n",
      "  (conv3): Conv2d(64, 128, kernel_size=(5, 5), stride=(1, 1), padding=(2, 2))\n",
      "  (conv4): Conv2d(128, 256, kernel_size=(5, 5), stride=(1, 1), padding=(2, 2))\n",
      "  (pool): MaxPool2d(kernel_size=2, stride=2, padding=0, dilation=1, ceil_mode=False)\n",
      "  (fc1): Linear(in_features=2304, out_features=1024, bias=True)\n",
      "  (fc2): Linear(in_features=1024, out_features=512, bias=True)\n",
      "  (fc3): Linear(in_features=512, out_features=7, bias=True)\n",
      "  (bn1): BatchNorm2d(32, eps=1e-05, momentum=0.1, affine=True, track_running_stats=True)\n",
      "  (bn2): BatchNorm2d(64, eps=1e-05, momentum=0.1, affine=True, track_running_stats=True)\n",
      "  (bn3): BatchNorm2d(128, eps=1e-05, momentum=0.1, affine=True, track_running_stats=True)\n",
      "  (bn4): BatchNorm2d(256, eps=1e-05, momentum=0.1, affine=True, track_running_stats=True)\n",
      ")\n",
      "----------------------------------------------------------------\n",
      "        Layer (type)               Output Shape         Param #\n",
      "================================================================\n",
      "            Conv2d-1           [-1, 32, 48, 48]             832\n",
      "       BatchNorm2d-2           [-1, 32, 48, 48]              64\n",
      "         MaxPool2d-3           [-1, 32, 24, 24]               0\n",
      "            Conv2d-4           [-1, 64, 24, 24]          51,264\n",
      "       BatchNorm2d-5           [-1, 64, 24, 24]             128\n",
      "         MaxPool2d-6           [-1, 64, 12, 12]               0\n",
      "            Conv2d-7          [-1, 128, 12, 12]         204,928\n",
      "       BatchNorm2d-8          [-1, 128, 12, 12]             256\n",
      "         MaxPool2d-9            [-1, 128, 6, 6]               0\n",
      "           Conv2d-10            [-1, 256, 6, 6]         819,456\n",
      "      BatchNorm2d-11            [-1, 256, 6, 6]             512\n",
      "        MaxPool2d-12            [-1, 256, 3, 3]               0\n",
      "           Linear-13                 [-1, 1024]       2,360,320\n",
      "           Linear-14                  [-1, 512]         524,800\n",
      "           Linear-15                    [-1, 7]           3,591\n",
      "================================================================\n",
      "Total params: 3,966,151\n",
      "Trainable params: 3,966,151\n",
      "Non-trainable params: 0\n",
      "----------------------------------------------------------------\n",
      "Input size (MB): 0.01\n",
      "Forward/backward pass size (MB): 2.38\n",
      "Params size (MB): 15.13\n",
      "Estimated Total Size (MB): 17.52\n",
      "----------------------------------------------------------------\n"
     ]
    }
   ],
   "source": [
    "from torchsummary import summary\n",
    "model= FerModel().to(device)\n",
    "print(model)\n",
    "summary(model,(1,48,48))"
   ]
  },
  {
   "cell_type": "code",
   "execution_count": 24,
   "id": "ab77411e-5d98-4f0c-83f4-9bcc964d2d08",
   "metadata": {},
   "outputs": [],
   "source": [
    "def train_model(model, train_loader, criterion, optimizer, num_epochs):\n",
    "    device = torch.device(\"cuda\" if torch.cuda.is_available() else \"cpu\")\n",
    "    model.to(device)\n",
    "\n",
    "    train_losses = []\n",
    "    train_accuracies = []\n",
    "\n",
    "    for epoch in range(num_epochs):\n",
    "        model.train()\n",
    "        train_loss = 0.0\n",
    "        correct_train = 0\n",
    "        total_train = 0\n",
    "\n",
    "        for inputs, labels in train_loader:\n",
    "            inputs, labels = inputs.to(device), labels.to(device)\n",
    "            \n",
    "            optimizer.zero_grad()\n",
    "            outputs = model(inputs)\n",
    "            loss = criterion(outputs, labels)\n",
    "            loss.backward()\n",
    "            optimizer.step()\n",
    "\n",
    "            train_loss += loss.item() * inputs.size(0)\n",
    "            _, predicted = torch.max(outputs.data, 1)\n",
    "            total_train += labels.size(0)\n",
    "            correct_train += (predicted == labels).sum().item()\n",
    "\n",
    "        epoch_loss = train_loss / len(train_loader.dataset)\n",
    "        epoch_acc = correct_train / total_train\n",
    "        train_losses.append(epoch_loss)\n",
    "        train_accuracies.append(epoch_acc)\n",
    "\n",
    "        print(f\"Epoch {epoch+1}/{num_epochs}, \"\n",
    "              f\"Train Loss: {epoch_loss:.4f}, \"\n",
    "              f\"Train Acc: {epoch_acc:.4f}\")\n",
    "\n",
    "    return train_losses, train_accuracies"
   ]
  },
  {
   "cell_type": "code",
   "execution_count": 25,
   "id": "c65ac0e0-3ae3-4037-a950-28e190b010e9",
   "metadata": {},
   "outputs": [],
   "source": [
    "def test_model(model, test_loader):\n",
    "    device = torch.device(\"cuda\" if torch.cuda.is_available() else \"cpu\")\n",
    "    model.eval()\n",
    "    correct = 0\n",
    "    total = 0\n",
    "    with torch.no_grad():\n",
    "        for inputs, labels in test_loader:\n",
    "            inputs, labels = inputs.to(device), labels.to(device)\n",
    "            outputs = model(inputs)\n",
    "            _, predicted = torch.max(outputs.data, 1)\n",
    "            total += labels.size(0)\n",
    "            correct += (predicted == labels).sum().item()\n",
    "\n",
    "    test_accuracy = correct / total\n",
    "    print(f\"Test Accuracy: {test_accuracy:.4f}\")"
   ]
  },
  {
   "cell_type": "code",
   "execution_count": 26,
   "id": "cc122f0e-d8a6-450c-b83b-cddef9b1d935",
   "metadata": {},
   "outputs": [
    {
     "name": "stdout",
     "output_type": "stream",
     "text": [
      "Epoch 1/25, Train Loss: 1.5707, Train Acc: 0.3741\n",
      "Epoch 2/25, Train Loss: 1.2816, Train Acc: 0.5026\n",
      "Epoch 3/25, Train Loss: 1.1581, Train Acc: 0.5561\n",
      "Epoch 4/25, Train Loss: 1.0419, Train Acc: 0.6065\n",
      "Epoch 5/25, Train Loss: 0.9194, Train Acc: 0.6560\n",
      "Epoch 6/25, Train Loss: 0.7838, Train Acc: 0.7078\n",
      "Epoch 7/25, Train Loss: 0.6218, Train Acc: 0.7729\n",
      "Epoch 8/25, Train Loss: 0.4603, Train Acc: 0.8370\n",
      "Epoch 9/25, Train Loss: 0.3359, Train Acc: 0.8824\n",
      "Epoch 10/25, Train Loss: 0.2564, Train Acc: 0.9108\n",
      "Epoch 11/25, Train Loss: 0.1997, Train Acc: 0.9327\n",
      "Epoch 12/25, Train Loss: 0.1732, Train Acc: 0.9415\n",
      "Epoch 13/25, Train Loss: 0.1455, Train Acc: 0.9505\n",
      "Epoch 14/25, Train Loss: 0.1380, Train Acc: 0.9552\n",
      "Epoch 15/25, Train Loss: 0.1142, Train Acc: 0.9610\n",
      "Epoch 16/25, Train Loss: 0.1128, Train Acc: 0.9638\n",
      "Epoch 17/25, Train Loss: 0.1039, Train Acc: 0.9675\n",
      "Epoch 18/25, Train Loss: 0.0912, Train Acc: 0.9704\n",
      "Epoch 19/25, Train Loss: 0.0923, Train Acc: 0.9706\n",
      "Epoch 20/25, Train Loss: 0.0857, Train Acc: 0.9725\n",
      "Epoch 21/25, Train Loss: 0.0778, Train Acc: 0.9752\n",
      "Epoch 22/25, Train Loss: 0.0711, Train Acc: 0.9764\n",
      "Epoch 23/25, Train Loss: 0.0709, Train Acc: 0.9769\n",
      "Epoch 24/25, Train Loss: 0.0631, Train Acc: 0.9795\n",
      "Epoch 25/25, Train Loss: 0.0660, Train Acc: 0.9788\n"
     ]
    }
   ],
   "source": [
    "import torch.optim as optim\n",
    "device = torch.device(\"cuda:0\" if torch.cuda.is_available() else \"cpu\")\n",
    "model.to(device)\n",
    "criterion = torch.nn.CrossEntropyLoss()\n",
    "optimizer = optim.Adam(model.parameters(), lr=0.001)\n",
    "n_epochs = 25\n",
    "train_losses,train_accuracies = train_model(model, train_loader, criterion,optimizer, num_epochs=n_epochs)"
   ]
  },
  {
   "cell_type": "code",
   "execution_count": 27,
   "id": "61394145-636b-4dee-aa09-cee7f331d1d2",
   "metadata": {},
   "outputs": [
    {
     "name": "stdout",
     "output_type": "stream",
     "text": [
      "Test Accuracy: 0.6038\n"
     ]
    }
   ],
   "source": [
    "test_model(model, test_loader)"
   ]
  },
  {
   "cell_type": "code",
   "execution_count": 34,
   "id": "d0849e1d-dc2f-48f1-99df-03f0fc581966",
   "metadata": {},
   "outputs": [
    {
     "name": "stdout",
     "output_type": "stream",
     "text": [
      "Predicted emotion: Surprise\n"
     ]
    }
   ],
   "source": [
    "from PIL import Image\n",
    "transform = transforms.Compose([\n",
    "    transforms.Grayscale(num_output_channels=1),\n",
    "    transforms.Resize((48, 48)),\n",
    "    transforms.ToTensor(),\n",
    "    transforms.Normalize(mean=[0.5], std=[0.5])\n",
    "])\n",
    "image_path='anger.png'\n",
    "img = Image.open(image_path)\n",
    "input_tensor = transform(img).unsqueeze(0).to(device)\n",
    "model.eval()\n",
    "with torch.no_grad():\n",
    "    output = model(input_tensor)\n",
    "    pred = torch.argmax(output, 1).item()\n",
    "emotions = ['Angry', 'Disgust', 'Fear', 'Happy', 'Sad', 'Surprise', 'Neutral']\n",
    "print(f\"Predicted emotion: {emotions[pred]}\")"
   ]
  },
  {
   "cell_type": "code",
   "execution_count": 32,
   "id": "4a0b3ead-5813-421b-b692-6732c69bd65b",
   "metadata": {},
   "outputs": [],
   "source": [
    "torch.save(model.state_dict(), 'fer_model.pth')"
   ]
  }
 ],
 "metadata": {
  "kernelspec": {
   "display_name": "Python 3 (ipykernel)",
   "language": "python",
   "name": "python3"
  },
  "language_info": {
   "codemirror_mode": {
    "name": "ipython",
    "version": 3
   },
   "file_extension": ".py",
   "mimetype": "text/x-python",
   "name": "python",
   "nbconvert_exporter": "python",
   "pygments_lexer": "ipython3",
   "version": "3.13.2"
  }
 },
 "nbformat": 4,
 "nbformat_minor": 5
}
